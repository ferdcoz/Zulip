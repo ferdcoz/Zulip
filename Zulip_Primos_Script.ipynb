{
 "cells": [
  {
   "attachments": {},
   "cell_type": "markdown",
   "metadata": {},
   "source": [
    "### Librerias"
   ]
  },
  {
   "cell_type": "code",
   "execution_count": 2,
   "metadata": {},
   "outputs": [],
   "source": [
    "import zulip # Conexión a API de Zulip\n",
    "import re # Expresiones regulares\n",
    "import nltk # Procesamiento de lenguaje (tokenización)\n",
    "import random # Generar números aleatorios\n",
    "from bs4 import BeautifulSoup # Procesar respuesta HTML como texto plano"
   ]
  },
  {
   "attachments": {},
   "cell_type": "markdown",
   "metadata": {},
   "source": [
    "### API Request a Zulip"
   ]
  },
  {
   "cell_type": "code",
   "execution_count": 6,
   "metadata": {},
   "outputs": [],
   "source": [
    "# Reemplazar con sus datos y clave de API\n",
    "\n",
    "client = zulip.Client(\n",
    "    api_key=\"123456\"\n",
    "    ,email=\"tuemail@tuemail.com\"\n",
    "    ,site=\"https://labo2023v.zulip.rebelare.com\"\n",
    ")\n",
    "\n",
    "request = {\n",
    "    \"anchor\": \"newest\",\n",
    "    \"num_before\": 100,\n",
    "    \"num_after\": 0,\n",
    "    \"narrow\": [\n",
    "        {\"operator\": \"stream\", \"operand\": \"z-CheckIn\"},\n",
    "    ],\n",
    "}\n",
    "result = client.get_messages(request)['messages']"
   ]
  },
  {
   "attachments": {},
   "cell_type": "markdown",
   "metadata": {},
   "source": [
    "### Patterns Regex"
   ]
  },
  {
   "cell_type": "code",
   "execution_count": 7,
   "metadata": {},
   "outputs": [],
   "source": [
    "pattern = re.compile(r'[0-9]{6}[^\\d]{2,5}[0-9]{6}[^\\d]{2,5}[0-9]{6}[^\\d]{2,5}[0-9]{6}[^\\d]{2,5}[0-9]{6}',re.S)\n",
    "\n",
    "pattern2 = re.compile(r'(?<!\\d)\\d{6}[^\\d]{0,7}\\d{6}[^\\d]{0,7}\\d{6}[^\\d]{0,7}\\d{6}[^\\d]{0,7}\\d{6}(?!\\d)',re.S)"
   ]
  },
  {
   "attachments": {},
   "cell_type": "markdown",
   "metadata": {},
   "source": [
    "### Busqueda de secuencia"
   ]
  },
  {
   "cell_type": "code",
   "execution_count": 8,
   "metadata": {},
   "outputs": [],
   "source": [
    "v_dict = {}\n",
    "  \n",
    "for reg in result:\n",
    "  texto_limpio = BeautifulSoup(reg['content'], \"html.parser\").get_text()\n",
    "  numbers = re.findall(pattern2, texto_limpio.replace(\"\\n\", \" \").replace('100003','').replace('999983','').replace(',',''))\n",
    "  creator = reg['sender_full_name']\n",
    "  v_dict[creator] = numbers"
   ]
  },
  {
   "attachments": {},
   "cell_type": "markdown",
   "metadata": {},
   "source": [
    "### Resultados preliminares"
   ]
  },
  {
   "cell_type": "code",
   "execution_count": 9,
   "metadata": {},
   "outputs": [
    {
     "data": {
      "text/plain": [
       "{'Notification Bot': [],\n",
       " 'Marcos Buccellato': ['771349 771359 771389 771401 771403'],\n",
       " 'Fernando Coz': ['987705 163855 325599 590517 269257'],\n",
       " 'mariano daniel marchetta': ['100019 - 100043 - 100049 - 100057 - 100069'],\n",
       " 'Fernando Bogorni': ['100103 100109 100129 100151 100153'],\n",
       " 'Lucas Cardenas': ['107897 108089 108377 108413 108881'],\n",
       " 'Marcela Distefano': ['100019 100043 100049 100057 100069'],\n",
       " 'Hernan Ifran': ['100591 100609 100613 100621 100649'],\n",
       " 'Verónica García Río': ['100169 100183 100189 100193 100207'],\n",
       " 'Damian Joglar': ['200003 - 200009 - 200013 - 220003  - 200023'],\n",
       " 'Aureliano Chavarría': ['127031 262151 398039 524287 786433'],\n",
       " 'Luis Darío De Angeli': [],\n",
       " 'Leandro.Cerutti': [],\n",
       " 'Gustavo Denicolay': [],\n",
       " 'Esteban Elia': ['677213 727817 311237 660719 106427'],\n",
       " 'Karina L. Roitman': ['201107  433781 590041 604711 931517'],\n",
       " 'Johanna Noval': ['100333- 100999 – 120011 - 800029 – 900091'],\n",
       " 'Milagros Rodríguez Saá': ['100019 200017 300043 400093 500083'],\n",
       " 'Carla Fiori': ['604997 661201 693569 790501 839071'],\n",
       " 'Anita Ona': ['308803 672823 727687 773987 954971'],\n",
       " 'Darío Ezequiel Díaz': ['596731; 783409; 215487; 326971; 871623'],\n",
       " 'Tamara Gasquez': ['100519 366077 522757 633599 874249'],\n",
       " 'Andres Montes de Oca': [],\n",
       " 'Waldo Fattore': ['262139 394943 638819 819031 902761'],\n",
       " 'Gaston Larregui': ['400067 - 400069 - 400087 - 400093 - 400109'],\n",
       " 'Franco Martignoni': ['211007 211039 211049 211067 211097'],\n",
       " 'Horacio Basilio': ['100109 200179 300149 400199 500129'],\n",
       " 'maria ines Vargas': ['115229 295789 300317 599167 905357'],\n",
       " 'Ignacio Dottore': ['127763 127837 127859 127877 127909']}"
      ]
     },
     "execution_count": 9,
     "metadata": {},
     "output_type": "execute_result"
    }
   ],
   "source": [
    "# Si aparecen listas vacias se trata de condiciones no satisfechas por la expresión regular o algún mensaje producto de una respuesta y no un mensaje original\n",
    "v_dict"
   ]
  },
  {
   "attachments": {},
   "cell_type": "markdown",
   "metadata": {},
   "source": [
    "### Tokenizo las listas por tener distintos formatos"
   ]
  },
  {
   "cell_type": "code",
   "execution_count": 10,
   "metadata": {},
   "outputs": [
    {
     "data": {
      "text/plain": [
       "{'Notification Bot': [],\n",
       " 'Marcos Buccellato': [771349, 771359, 771389, 771401, 771403],\n",
       " 'Fernando Coz': [987705, 163855, 325599, 590517, 269257],\n",
       " 'mariano daniel marchetta': [100019, 100043, 100049, 100057, 100069],\n",
       " 'Fernando Bogorni': [100103, 100109, 100129, 100151, 100153],\n",
       " 'Lucas Cardenas': [107897, 108089, 108377, 108413, 108881],\n",
       " 'Marcela Distefano': [100019, 100043, 100049, 100057, 100069],\n",
       " 'Hernan Ifran': [100591, 100609, 100613, 100621, 100649],\n",
       " 'Verónica García Río': [100169, 100183, 100189, 100193, 100207],\n",
       " 'Damian Joglar': [200003, 200009, 200013, 220003, 200023],\n",
       " 'Aureliano Chavarría': [127031, 262151, 398039, 524287, 786433],\n",
       " 'Luis Darío De Angeli': [],\n",
       " 'Leandro.Cerutti': [],\n",
       " 'Gustavo Denicolay': [],\n",
       " 'Esteban Elia': [677213, 727817, 311237, 660719, 106427],\n",
       " 'Karina L. Roitman': [201107, 433781, 590041, 604711, 931517],\n",
       " 'Johanna Noval': [100333, 100999, 120011, 800029, 900091],\n",
       " 'Milagros Rodríguez Saá': [100019, 200017, 300043, 400093, 500083],\n",
       " 'Carla Fiori': [604997, 661201, 693569, 790501, 839071],\n",
       " 'Anita Ona': [308803, 672823, 727687, 773987, 954971],\n",
       " 'Darío Ezequiel Díaz': [596731, 783409, 215487, 326971, 871623],\n",
       " 'Tamara Gasquez': [100519, 366077, 522757, 633599, 874249],\n",
       " 'Andres Montes de Oca': [],\n",
       " 'Waldo Fattore': [262139, 394943, 638819, 819031, 902761],\n",
       " 'Gaston Larregui': [400067, 400069, 400087, 400093, 400109],\n",
       " 'Franco Martignoni': [211007, 211039, 211049, 211067, 211097],\n",
       " 'Horacio Basilio': [100109, 200179, 300149, 400199, 500129],\n",
       " 'maria ines Vargas': [115229, 295789, 300317, 599167, 905357],\n",
       " 'Ignacio Dottore': [127763, 127837, 127859, 127877, 127909]}"
      ]
     },
     "execution_count": 10,
     "metadata": {},
     "output_type": "execute_result"
    }
   ],
   "source": [
    "for key in v_dict:\n",
    "    tokens = []\n",
    "    for elemento in v_dict[key]:\n",
    "        tokens_raw = nltk.word_tokenize(elemento)\n",
    "        tokens_limpios = [re.sub(r'[^\\w\\s]','',token) for token in tokens_raw if not token.isspace() and token != '' and len(token) >= 6]\n",
    "        tokens.extend(tokens_limpios)\n",
    "        v_dict[key] = list(map(int, tokens))\n",
    "\n",
    "v_dict"
   ]
  },
  {
   "attachments": {},
   "cell_type": "markdown",
   "metadata": {},
   "source": [
    "### Lista de numeros prohibidos"
   ]
  },
  {
   "cell_type": "code",
   "execution_count": 11,
   "metadata": {},
   "outputs": [],
   "source": [
    "prohibidos = []\n",
    "\n",
    "for key in v_dict:\n",
    "    [prohibidos.append(item) for item in v_dict[key] if item not in prohibidos]\n",
    "    "
   ]
  },
  {
   "attachments": {},
   "cell_type": "markdown",
   "metadata": {},
   "source": [
    "### 5 números primos"
   ]
  },
  {
   "cell_type": "code",
   "execution_count": 12,
   "metadata": {},
   "outputs": [
    {
     "data": {
      "text/plain": [
       "[794221, 635777, 976639, 125641, 677827]"
      ]
     },
     "execution_count": 12,
     "metadata": {},
     "output_type": "execute_result"
    }
   ],
   "source": [
    "#Ahora genero basado en los existenes ocupados por otros\n",
    "prohibidos\n",
    "seeds = []\n",
    "start = 100003\n",
    "end = 999983\n",
    "\n",
    "def es_primo(n):\n",
    "  if n < 2:\n",
    "    return False\n",
    "  for i in range(2, int(n**0.5) + 1):\n",
    "    if n % i == 0:\n",
    "      return False\n",
    "  return True\n",
    "\n",
    "def generar_primos(inicio, fin, prohibidos, cantidad=5):\n",
    "  seeds = []\n",
    "  while len(seeds) < cantidad:\n",
    "    numero = random.randint(inicio, fin)\n",
    "    if es_primo(numero) and numero not in seeds and numero not in prohibidos:\n",
    "      seeds.append(numero)\n",
    "  return seeds\n",
    "\n",
    "generar_primos(start,end,prohibidos)"
   ]
  },
  {
   "attachments": {},
   "cell_type": "markdown",
   "metadata": {},
   "source": [
    "### Verificación repetidos"
   ]
  },
  {
   "cell_type": "code",
   "execution_count": 13,
   "metadata": {},
   "outputs": [
    {
     "data": {
      "text/plain": [
       "{100019: 3, 100043: 2, 100049: 2, 100057: 2, 100069: 2, 100109: 2, 400093: 2}"
      ]
     },
     "execution_count": 13,
     "metadata": {},
     "output_type": "execute_result"
    }
   ],
   "source": [
    "\n",
    "repetidos = {}\n",
    "v_list = []\n",
    "\n",
    "for lista in v_dict.values():\n",
    "    v_list.extend(lista)\n",
    "\n",
    "for elemento in v_list:\n",
    "        if v_list.count(elemento) > 1:\n",
    "            if elemento in repetidos:\n",
    "                repetidos[elemento] += 1\n",
    "            else:\n",
    "                repetidos[elemento] = 1\n",
    "\n",
    "repetidos"
   ]
  }
 ],
 "metadata": {
  "kernelspec": {
   "display_name": "base",
   "language": "python",
   "name": "python3"
  },
  "language_info": {
   "codemirror_mode": {
    "name": "ipython",
    "version": 3
   },
   "file_extension": ".py",
   "mimetype": "text/x-python",
   "name": "python",
   "nbconvert_exporter": "python",
   "pygments_lexer": "ipython3",
   "version": "3.9.13"
  },
  "orig_nbformat": 4
 },
 "nbformat": 4,
 "nbformat_minor": 2
}
